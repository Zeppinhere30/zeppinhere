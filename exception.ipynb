{
  "nbformat": 4,
  "nbformat_minor": 0,
  "metadata": {
    "colab": {
      "provenance": [],
      "authorship_tag": "ABX9TyOsqkrQQAKFfCjLJtyuVwEw",
      "include_colab_link": true
    },
    "kernelspec": {
      "name": "python3",
      "display_name": "Python 3"
    },
    "language_info": {
      "name": "python"
    }
  },
  "cells": [
    {
      "cell_type": "markdown",
      "metadata": {
        "id": "view-in-github",
        "colab_type": "text"
      },
      "source": [
        "<a href=\"https://colab.research.google.com/github/Zeppinhere30/zeppinhere/blob/main/exception.ipynb\" target=\"_parent\"><img src=\"https://colab.research.google.com/assets/colab-badge.svg\" alt=\"Open In Colab\"/></a>"
      ]
    },
    {
      "cell_type": "code",
      "execution_count": 16,
      "metadata": {
        "id": "ylV_7Osqso0v"
      },
      "outputs": [],
      "source": [
        "class BankAccount:\n",
        "  def __init__(self,norek,saldo=0):\n",
        "    self.norek = norek\n",
        "    self.saldo = saldo\n",
        "\n",
        "  def transfer(self,amount):\n",
        "    if amount > self.saldo:\n",
        "       raise ValueError(f\"Saldo tidak mencukupi, saldo anda adalah {self.saldo:,}\")\n",
        "\n",
        "    self.saldo -= amount"
      ]
    },
    {
      "cell_type": "code",
      "source": [
        "bca1=BankAccount(\"12345\", 2000000)\n",
        "print(f\"Saldo anda adalah {bca1.saldo:,.2f}\")\n",
        "\n",
        "try:\n",
        "  bca1.transfer(5000000)\n",
        "except ValueError as e:\n",
        "  print(e)"
      ],
      "metadata": {
        "colab": {
          "base_uri": "https://localhost:8080/"
        },
        "id": "jYwDdgz0u6nB",
        "outputId": "3231232c-112e-4980-e22f-7b837ccd52d0"
      },
      "execution_count": 17,
      "outputs": [
        {
          "output_type": "stream",
          "name": "stdout",
          "text": [
            "Saldo anda adalah 2,000,000.00\n",
            "Saldo tidak mencukupi, saldo anda adalah 2,000,000\n"
          ]
        }
      ]
    },
    {
      "cell_type": "code",
      "source": [
        "class BalanceNotEnough(Exception):\n",
        "  def __init__(self,message):\n",
        "    self.message=message\n",
        "\n",
        "  def __str__(self):\n",
        "    return self.message\n",
        "\n",
        "class BankAccount:\n",
        "  def __init__(self,no,Balance=0):\n",
        "    self.no = no\n",
        "    self.Balance = Balance\n",
        "\n",
        "  def transfer(self,amount):\n",
        "    if amount > self.Balance:\n",
        "       raise BalanceNotEnough(f\"Saldo tidak mencukupi, saldo anda adalah {self.Balance:,}\")\n",
        "\n",
        "    self.Balance -= amount"
      ],
      "metadata": {
        "id": "nvMK29l0zJDD"
      },
      "execution_count": 37,
      "outputs": []
    },
    {
      "cell_type": "code",
      "source": [
        "bca1=BankAccount(\"12345\", 2000000)\n",
        "print(f\"Saldo anda adalah {bca1.Balance:,.2f}\")\n",
        "\n",
        "try:\n",
        "  bca1.transfer(5000000)\n",
        "except BalanceNotEnough as e:\n",
        "  print(e)"
      ],
      "metadata": {
        "colab": {
          "base_uri": "https://localhost:8080/"
        },
        "id": "Xl3Zp7oh0-he",
        "outputId": "f7adbc19-0dd3-4b71-ddab-e65511af9268"
      },
      "execution_count": 36,
      "outputs": [
        {
          "output_type": "stream",
          "name": "stdout",
          "text": [
            "Saldo anda adalah 2,000,000.00\n",
            "Saldo tidak mencukupi, saldo anda adalah 2,000,000\n"
          ]
        }
      ]
    }
  ]
}