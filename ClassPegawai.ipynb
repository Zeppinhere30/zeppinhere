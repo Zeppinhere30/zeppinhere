{
  "nbformat": 4,
  "nbformat_minor": 0,
  "metadata": {
    "colab": {
      "provenance": []
    },
    "kernelspec": {
      "name": "python3",
      "display_name": "Python 3"
    },
    "language_info": {
      "name": "python"
    }
  },
  "cells": [
    {
      "cell_type": "code",
      "execution_count": null,
      "metadata": {
        "id": "GEC5aeGTkCA5"
      },
      "outputs": [],
      "source": [
        "class pegawai:\n",
        "  def __init__(self, nama, gaji):\n",
        "    self.nama=nama\n",
        "    self.gaji=gaji\n",
        "    print(\"ini konstruktor dari kelas pegawai\")\n",
        "\n",
        "  def info(self):\n",
        "    print(f\"nama: {self.nama}, gaji : {self.gaji}\")\n",
        "\n",
        "  def totalGaji(self):\n",
        "    return self.gaji\n",
        "\n",
        "  def jamLembur(self, jam):\n",
        "    return jam+(jam*1.5)\n",
        "\n",
        "  def upahLembur(self, jam):\n",
        "    return 1/173*self.gaji*self.jamLembur(jam)\n"
      ]
    },
    {
      "cell_type": "code",
      "source": [
        "p1=pegawai(\"Andi\", 17300)\n",
        "p1.info()\n",
        "print(f\"Total gaji {p1.nama} adalah {p1.totalGaji()}\")\n",
        "print(f\"Upah lembur dari selama 4 jam adalah {p1.upahLembur(4)}\")"
      ],
      "metadata": {
        "colab": {
          "base_uri": "https://localhost:8080/"
        },
        "id": "oEFTNV2JkQ8Y",
        "outputId": "2877cdae-69e0-4c49-d1e4-6bfe024a4fcc"
      },
      "execution_count": 87,
      "outputs": [
        {
          "output_type": "stream",
          "name": "stdout",
          "text": [
            "ini konstruktor dari kelas pegawai\n",
            "nama: Andi, gaji : 17300\n",
            "Total gaji Andi adalah 17300\n",
            "Upah lembur dari selama 4 jam adalah 1000.0\n"
          ]
        }
      ]
    },
    {
      "cell_type": "code",
      "source": [
        "class Pegawai:\n",
        "    def __init__(self, nama, gaji):\n",
        "        self.nama = nama\n",
        "        self.gaji = gaji\n",
        "    def info(self):\n",
        "        print(f\"Nama: {self.nama}, Gaji: {self.gaji}\")\n",
        "\n",
        "    def totalGaji(self):\n",
        "        return self.gaji\n",
        "\n",
        "    def jamLembur(self, jam):\n",
        "        return jam\n",
        "\n",
        "\n",
        "class Manajer(Pegawai):\n",
        "    def __init__(self, nama, gaji, tunjangan):\n",
        "        super().__init__(nama, gaji)\n",
        "        self.tunjangan = tunjangan\n",
        "        print(\"ini dari konstruktor kelas Manajer\")\n",
        "\n",
        "    def info(self):\n",
        "        super().info()\n",
        "        print(f\"Tunjangan: {self.tunjangan}\")\n",
        "\n",
        "    def totalGaji(self):\n",
        "        return super().totalGaji() + self.tunjangan\n",
        "\n",
        "    def upahLembur(self, jam):\n",
        "        if super().jamLembur(jam) >= 4:\n",
        "            return 0.2 * self.gaji * super().jamLembur(jam)\n",
        "        else:\n",
        "            return 0"
      ],
      "metadata": {
        "id": "qDIo6ow9lD_F"
      },
      "execution_count": 97,
      "outputs": []
    },
    {
      "cell_type": "code",
      "source": [],
      "metadata": {
        "id": "Up5-tDND0DLs"
      },
      "execution_count": null,
      "outputs": []
    },
    {
      "cell_type": "code",
      "source": [
        "m1=Manajer(\"Asep\",5000, 1000)\n",
        "m1.info()\n",
        "print(f\"Total gaji {m1.nama} adalah {m1.totalGaji()}\")\n",
        "print(f\"Upah lembur {m1.nama} dari selama 6 jam adalah {m1.upahLembur(6)}\")"
      ],
      "metadata": {
        "colab": {
          "base_uri": "https://localhost:8080/"
        },
        "id": "1MPH36_4vKIr",
        "outputId": "251a99a3-1977-4c05-f3dc-4a7ca986f8f6"
      },
      "execution_count": 98,
      "outputs": [
        {
          "output_type": "stream",
          "name": "stdout",
          "text": [
            "ini dari konstruktor kelas Manajer\n",
            "Nama: Asep, Gaji: 5000\n",
            "Tunjangan: 1000\n",
            "Total gaji Asep adalah 6000\n",
            "Upah lembur Asep dari selama 6 jam adalah 6000.0\n"
          ]
        }
      ]
    }
  ]
}