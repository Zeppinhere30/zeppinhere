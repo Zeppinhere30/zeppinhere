{
  "nbformat": 4,
  "nbformat_minor": 0,
  "metadata": {
    "colab": {
      "provenance": [],
      "include_colab_link": true
    },
    "kernelspec": {
      "name": "python3",
      "display_name": "Python 3"
    },
    "language_info": {
      "name": "python"
    }
  },
  "cells": [
    {
      "cell_type": "markdown",
      "metadata": {
        "id": "view-in-github",
        "colab_type": "text"
      },
      "source": [
        "<a href=\"https://colab.research.google.com/github/Zeppinhere30/zeppinhere/blob/main/Tugas_kelas_AkunBank.ipynb\" target=\"_parent\"><img src=\"https://colab.research.google.com/assets/colab-badge.svg\" alt=\"Open In Colab\"/></a>"
      ]
    },
    {
      "cell_type": "code",
      "execution_count": 56,
      "metadata": {
        "id": "eqhIm5JCuiJA"
      },
      "outputs": [],
      "source": [
        "class AkunBank:\n",
        "  def __init__(self, no_rek, nasabah, saldo_awal, pin):\n",
        "    self.__no_rek = no_rek\n",
        "    self.__nasabah = nasabah\n",
        "    self.__saldo = saldo_awal\n",
        "    self.__pin = pin\n",
        "\n",
        "  @property\n",
        "  def nasabah(self):\n",
        "    return self.__nasabah\n",
        "\n",
        "  @property\n",
        "  def saldo(self):\n",
        "    return self.__saldo\n",
        "\n",
        "  def setor(self, jumlah):\n",
        "    if jumlah > 0:\n",
        "      self.__saldo += jumlah\n",
        "      print(f\"Setor berhasil, saldo sekarang {self.__saldo}\")\n",
        "    else:\n",
        "      print(\"Gagal setor, karena negatif\")\n",
        "\n",
        "  def tarik(self, jumlah, pin):\n",
        "    if pin != self.__pin:\n",
        "      print(\"PIN salah! Tidak bisa melakukan penarikan.\")\n",
        "    elif jumlah <= 0:\n",
        "      print(\"Jumlah penarikan harus lebih dari 0.\")\n",
        "    elif jumlah > self.__saldo:\n",
        "      print(\"Saldo tidak cukup untuk melakukan penarikan.\")\n",
        "    else:\n",
        "      self.__saldo -= jumlah\n",
        "      print(f\"Penarikan berhasil, saldo sekarang {self.__saldo}\")\n",
        "\n",
        "  def transfer(self, tujuan, jumlah, pin):\n",
        "    if pin != self.__pin:\n",
        "      print(\"PIN salah! Tidak bisa melakukan transfer.\")\n",
        "    elif jumlah <= 0:\n",
        "      print(\"Jumlah transfer harus lebih dari 0.\")\n",
        "    elif jumlah > self.__saldo:\n",
        "      print(\"Saldo tidak cukup untuk melakukan transfer.\")\n",
        "    else:\n",
        "      self.__saldo -= jumlah\n",
        "      tujuan._AkunBank__saldo += jumlah\n",
        "      print(f\"Transfer berhasil ke {tujuan.__nasabah}, saldo {self.__nasabah} sekarang {self.__saldo}\")\n",
        "\n",
        "  def ganti_pin(self, pin_lama, pin_baru):\n",
        "    if pin_lama != self.__pin:\n",
        "      print(\"PIN lama salah! Tidak bisa diganti.\")\n",
        "    elif len(pin_baru) < 3:\n",
        "      print(\"PIN baru terlalu pendek.\")\n",
        "    else:\n",
        "      self.__pin = pin_baru\n",
        "      print(\"PIN berhasil diganti.\")\n",
        "\n",
        "  def get_saldo(self):\n",
        "    return self.__saldo\n"
      ]
    },
    {
      "cell_type": "code",
      "source": [
        "nasabah1=AkunBank(\"111\",\"Sabiq\",10000,\"123\")\n",
        "print(f\"Saldo Nasabah {nasabah1.nasabah} adalah {nasabah1.saldo}\")"
      ],
      "metadata": {
        "colab": {
          "base_uri": "https://localhost:8080/"
        },
        "id": "iFbaLXTovQOE",
        "outputId": "cc02195c-f1a8-40ff-a8b0-73b50b3624d7"
      },
      "execution_count": 57,
      "outputs": [
        {
          "output_type": "stream",
          "name": "stdout",
          "text": [
            "Saldo Nasabah Sabiq adalah 10000\n"
          ]
        }
      ]
    },
    {
      "cell_type": "code",
      "source": [
        "nasabah1.setor(20000)\n",
        "print(f\"Saldo Nasabah {nasabah1.nasabah} adalah {nasabah1.saldo}\")"
      ],
      "metadata": {
        "colab": {
          "base_uri": "https://localhost:8080/"
        },
        "id": "WWED1gIaxnqv",
        "outputId": "1684ef04-fbe9-4c7c-90c2-84589ef96e7a"
      },
      "execution_count": 65,
      "outputs": [
        {
          "output_type": "stream",
          "name": "stdout",
          "text": [
            "Setor berhasil, saldo sekarang 20000\n",
            "Saldo Nasabah Sabiq adalah 20000\n"
          ]
        }
      ]
    },
    {
      "cell_type": "code",
      "source": [
        "nasabah1.setor(-100000)"
      ],
      "metadata": {
        "colab": {
          "base_uri": "https://localhost:8080/"
        },
        "id": "Tkxj2BPwxrKv",
        "outputId": "b95a8bfa-0e5a-41de-f09a-b3bb3ef34134"
      },
      "execution_count": null,
      "outputs": [
        {
          "output_type": "stream",
          "name": "stdout",
          "text": [
            "Gagal setor, karena negatif\n"
          ]
        }
      ]
    },
    {
      "cell_type": "code",
      "source": [
        "nasabah2=AkunBank(\"222\",\"Asep\",25000,\"321\")\n",
        "print(f\"Saldo Nasabah {nasabah2.nasabah} adalah {nasabah2.saldo}\")"
      ],
      "metadata": {
        "id": "53-zy6ZhKpum",
        "outputId": "2565512c-02fe-4151-e113-6b07e45716c5",
        "colab": {
          "base_uri": "https://localhost:8080/"
        }
      },
      "execution_count": 66,
      "outputs": [
        {
          "output_type": "stream",
          "name": "stdout",
          "text": [
            "Saldo Nasabah Asep adalah 25000\n"
          ]
        }
      ]
    },
    {
      "cell_type": "code",
      "source": [
        "nasabah2.setor(20000)\n",
        "print(f\"Saldo Nasabah {nasabah2.nasabah} adalah {nasabah2.saldo}\")"
      ],
      "metadata": {
        "id": "1_8pGi6sK4DJ",
        "outputId": "d1b98008-8cc4-4e1d-e983-c1bdd479fa05",
        "colab": {
          "base_uri": "https://localhost:8080/"
        }
      },
      "execution_count": 53,
      "outputs": [
        {
          "output_type": "stream",
          "name": "stdout",
          "text": [
            "Setor berhasil, saldo sekarang 65000\n",
            "Saldo Nasabah Asep adalah 65000\n"
          ]
        }
      ]
    },
    {
      "cell_type": "code",
      "source": [
        "nasabah2.setor(-200000)"
      ],
      "metadata": {
        "id": "pZk0azm-LCd3",
        "outputId": "9f951233-5531-4d5d-f9a3-579434745887",
        "colab": {
          "base_uri": "https://localhost:8080/"
        }
      },
      "execution_count": 59,
      "outputs": [
        {
          "output_type": "stream",
          "name": "stdout",
          "text": [
            "Gagal setor, karena negatif\n"
          ]
        }
      ]
    },
    {
      "cell_type": "code",
      "source": [
        "nasabah1.tarik(20000, \"999\")"
      ],
      "metadata": {
        "id": "MhSfZs2YMC9W",
        "outputId": "20857ce5-a802-40c1-929f-ab435e702499",
        "colab": {
          "base_uri": "https://localhost:8080/"
        }
      },
      "execution_count": 60,
      "outputs": [
        {
          "output_type": "stream",
          "name": "stdout",
          "text": [
            "PIN salah! Tidak bisa melakukan penarikan.\n"
          ]
        }
      ]
    },
    {
      "cell_type": "code",
      "source": [
        "nasabah1.tarik(40000, \"123\")"
      ],
      "metadata": {
        "id": "WDbgHW9xMJbJ",
        "outputId": "25df8607-afe4-4ef7-b45c-18a960871343",
        "colab": {
          "base_uri": "https://localhost:8080/"
        }
      },
      "execution_count": 62,
      "outputs": [
        {
          "output_type": "stream",
          "name": "stdout",
          "text": [
            "Saldo tidak cukup untuk melakukan penarikan.\n"
          ]
        }
      ]
    },
    {
      "cell_type": "code",
      "source": [
        "nasabah1.transfer(nasabah2, 1700, \"123\")"
      ],
      "metadata": {
        "id": "PRTkcvd1MW6y",
        "outputId": "fb1b697a-6a42-47c2-c141-d4fdf317b98e",
        "colab": {
          "base_uri": "https://localhost:8080/"
        }
      },
      "execution_count": 70,
      "outputs": [
        {
          "output_type": "stream",
          "name": "stdout",
          "text": [
            "Transfer berhasil ke Asep, saldo Sabiq sekarang 10000\n"
          ]
        }
      ]
    },
    {
      "cell_type": "code",
      "source": [
        "print(f\"Saldo {nasabah1.nasabah}: {nasabah1.get_saldo()}\")\n",
        "print(f\"Saldo {nasabah2.nasabah}: {nasabah2.get_saldo()}\")"
      ],
      "metadata": {
        "id": "qWNxacE7Mv2x",
        "outputId": "6f997b83-8142-4481-80e0-396c87385a1b",
        "colab": {
          "base_uri": "https://localhost:8080/"
        }
      },
      "execution_count": 71,
      "outputs": [
        {
          "output_type": "stream",
          "name": "stdout",
          "text": [
            "Saldo Sabiq: 10000\n",
            "Saldo Asep: 35000\n"
          ]
        }
      ]
    },
    {
      "cell_type": "code",
      "source": [
        "nasabah1.ganti_pin(\"123\", \"456\")\n",
        "nasabah1.tarik(1000, \"456\")"
      ],
      "metadata": {
        "id": "l7LHz86XM1xw",
        "outputId": "f9d27241-c930-459b-b6fb-3b91ae5b4acd",
        "colab": {
          "base_uri": "https://localhost:8080/"
        }
      },
      "execution_count": 72,
      "outputs": [
        {
          "output_type": "stream",
          "name": "stdout",
          "text": [
            "PIN berhasil diganti.\n",
            "Penarikan berhasil, saldo sekarang 9000\n"
          ]
        }
      ]
    }
  ]
}