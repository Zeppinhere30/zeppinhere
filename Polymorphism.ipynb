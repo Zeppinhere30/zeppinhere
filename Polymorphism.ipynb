{
  "nbformat": 4,
  "nbformat_minor": 0,
  "metadata": {
    "colab": {
      "provenance": [],
      "authorship_tag": "ABX9TyNh+GN/zeSyqF2scLQ+bsiV",
      "include_colab_link": true
    },
    "kernelspec": {
      "name": "python3",
      "display_name": "Python 3"
    },
    "language_info": {
      "name": "python"
    }
  },
  "cells": [
    {
      "cell_type": "markdown",
      "metadata": {
        "id": "view-in-github",
        "colab_type": "text"
      },
      "source": [
        "<a href=\"https://colab.research.google.com/github/Zeppinhere30/zeppinhere/blob/main/Polymorphism.ipynb\" target=\"_parent\"><img src=\"https://colab.research.google.com/assets/colab-badge.svg\" alt=\"Open In Colab\"/></a>"
      ]
    },
    {
      "cell_type": "code",
      "execution_count": 2,
      "metadata": {
        "id": "6vKvTAubpoEU"
      },
      "outputs": [],
      "source": [
        "#Method Opride\n",
        "class Hewan:\n",
        "  def __init__(self, nama):\n",
        "    self.nama=nama\n",
        "\n",
        "  def suara(self):\n",
        "    return \"hewan bersuara\""
      ]
    },
    {
      "cell_type": "code",
      "source": [
        "class Anjing(Hewan):\n",
        "  def suara(self):\n",
        "    return \"Guk..guk\"\n",
        "\n",
        "class Kucing(Hewan):\n",
        "  def suara(self):\n",
        "    return \"Meong..\"\n",
        "\n",
        "class Sapi(Hewan):\n",
        "  def suara(self):\n",
        "    return \"Moohhh..\"\n"
      ],
      "metadata": {
        "id": "AoisqzdFqAsn"
      },
      "execution_count": 4,
      "outputs": []
    },
    {
      "cell_type": "code",
      "source": [
        "anjing=Anjing(\"anjing1\")\n",
        "kucing=Kucing(\"kucing1\")\n",
        "sapi=Sapi(\"sapi1\")\n",
        "\n",
        "print(f\"Suara hewan {anjing.nama} adalah {anjing.suara()}\")\n",
        "print(f\"Suara hewan {kucing.nama} adalah {kucing.suara()}\")\n",
        "print(f\"Suara hewan {sapi.nama} adalah {sapi.suara()}\")"
      ],
      "metadata": {
        "colab": {
          "base_uri": "https://localhost:8080/"
        },
        "id": "cWwss9ZTrRil",
        "outputId": "7b2ac04f-8014-4f0d-da0a-60469456c286"
      },
      "execution_count": 7,
      "outputs": [
        {
          "output_type": "stream",
          "name": "stdout",
          "text": [
            "Suara hewan anjing1 adalah Guk..guk\n",
            "Suara hewan kucing1 adalah Meong..\n",
            "Suara hewan sapi1 adalah Moohhh..\n"
          ]
        }
      ]
    },
    {
      "cell_type": "code",
      "source": [
        "animals=[\n",
        "    Anjing(\"Buddy\"),\n",
        "    Kucing(\"Whiskers\"),\n",
        "    Sapi(\"Bessie\")\n",
        "]\n",
        "for animal in animals:\n",
        "  print(f\"Suara {animal.nama} adalah {animal.suara()}\")"
      ],
      "metadata": {
        "colab": {
          "base_uri": "https://localhost:8080/"
        },
        "id": "raII3HPyquPz",
        "outputId": "06e3af2e-eb2c-41fe-e4d1-2563ec71df11"
      },
      "execution_count": 15,
      "outputs": [
        {
          "output_type": "stream",
          "name": "stdout",
          "text": [
            "Suara Buddy adalah Guk..guk\n",
            "Suara Whiskers adalah Meong..\n",
            "Suara Bessie adalah Moohhh..\n"
          ]
        }
      ]
    },
    {
      "cell_type": "code",
      "source": [
        "#Duck tyiping\n",
        "class Mobil:\n",
        "  def star(self):\n",
        "    return \"mesin mobil menyala\"\n",
        "\n",
        "class Motor:\n",
        "  def star(self):\n",
        "    return \"mesin motor menyala\"\n",
        "\n",
        "class Perahu:\n",
        "  def star(self):\n",
        "    return \"mesin perahu menyala\""
      ],
      "metadata": {
        "id": "f1MUgEzlvyn7"
      },
      "execution_count": 21,
      "outputs": []
    },
    {
      "cell_type": "code",
      "source": [
        "def operasikan_kendaraan(kendaraan):\n",
        " print(kendaraan.star())\n",
        "\n",
        "daftar_kendaraan=[Mobil(),Motor(),Perahu()]\n",
        "for kendaraan in daftar_kendaraan:\n",
        "  operasikan_kendaraan(kendaraan)"
      ],
      "metadata": {
        "colab": {
          "base_uri": "https://localhost:8080/"
        },
        "id": "9ic0lsIcwWSk",
        "outputId": "5d7ac9a0-4512-4c04-e952-b7b571d9e632"
      },
      "execution_count": 28,
      "outputs": [
        {
          "output_type": "stream",
          "name": "stdout",
          "text": [
            "mesin mobil menyala\n",
            "mesin motor menyala\n",
            "mesin perahu menyala\n"
          ]
        }
      ]
    },
    {
      "cell_type": "code",
      "source": [
        "#Operator Overloading\n",
        "class Apple:\n",
        "  def __init__(self,jumlah):\n",
        "    self.jumlah=jumlah\n",
        "\n",
        "  def __add__(self,other):\n",
        "    return Apple(self.jumlah+other.jumlah)\n",
        "\n",
        "  def __str__(self):\n",
        "    return f\"Apple: {self.jumlah}\"\n",
        "\n",
        "apple=Apple(12)\n",
        "apple2=Apple(3)\n",
        "apple3=apple+apple2\n",
        "print(apple3)"
      ],
      "metadata": {
        "colab": {
          "base_uri": "https://localhost:8080/"
        },
        "id": "Rgp-cHMfyNCi",
        "outputId": "d44596a9-c683-4715-c0aa-c1ba05275440"
      },
      "execution_count": 31,
      "outputs": [
        {
          "output_type": "stream",
          "name": "stdout",
          "text": [
            "Apple: 15\n"
          ]
        }
      ]
    },
    {
      "cell_type": "code",
      "source": [
        "#Abstract Class\n",
        "from abc import ABC, abstractmethod\n",
        "import math\n",
        "\n",
        "class Shape(ABC):\n",
        "  @abstractmethod\n",
        "  def area(self):\n",
        "    pass"
      ],
      "metadata": {
        "id": "LgwJpRSkzyFE"
      },
      "execution_count": 33,
      "outputs": []
    },
    {
      "cell_type": "code",
      "source": [
        "class Rectangle(Shape):\n",
        "  def __init__(self,length,width):\n",
        "    self.length=length\n",
        "    self.width=width\n",
        "\n",
        "  def area(self):\n",
        "    return self.width*self.length\n",
        "\n",
        "class Circle(Shape):\n",
        "  def __init__(self,radius):\n",
        "    self.radius=radius\n",
        "\n",
        "  def area(self):\n",
        "    return math.pi*self.radius**2"
      ],
      "metadata": {
        "id": "hGFwoBGU0jw2"
      },
      "execution_count": 55,
      "outputs": []
    },
    {
      "cell_type": "code",
      "source": [
        "shapes = [Rectangle(12,5),Circle(100)]\n",
        "for shape in shapes:\n",
        "  print(f\"Luas adalah: {shape.area()}\")"
      ],
      "metadata": {
        "colab": {
          "base_uri": "https://localhost:8080/"
        },
        "id": "XqkMEf3y07KW",
        "outputId": "29341b92-4261-41f4-be01-1720e6f4c64d"
      },
      "execution_count": 56,
      "outputs": [
        {
          "output_type": "stream",
          "name": "stdout",
          "text": [
            "Luas adalah: 60\n",
            "Luas adalah: 31415.926535897932\n"
          ]
        }
      ]
    }
  ]
}